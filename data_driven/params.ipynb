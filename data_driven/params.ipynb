{
 "cells": [
  {
   "cell_type": "code",
   "execution_count": 1,
   "metadata": {},
   "outputs": [],
   "source": [
    "import optuna"
   ]
  },
  {
   "cell_type": "code",
   "execution_count": 3,
   "metadata": {},
   "outputs": [],
   "source": [
    "variable = 'air'\n",
    "state = 0\n",
    "study = optuna.load_study(study_name=f'optimizing_parameters_{variable}_{state}_pareto',\n",
    "                                storage=f'sqlite:///optimize/db/optimizing_parameters_state_{state}_pareto.db',)"
   ]
  },
  {
   "cell_type": "code",
   "execution_count": 17,
   "metadata": {},
   "outputs": [
    {
     "name": "stdout",
     "output_type": "stream",
     "text": [
      "air 0 0:05:37.302627 187 {'kernel_size_w': 3, 'kernel_size_h': 4, 'alpha': 0.3259539438613706, 'learning_rate': 0.000757121419126555}\n",
      "air 6 0:06:55.869363 487 {'kernel_size_w': 4, 'kernel_size_h': 4, 'alpha': 0.5615167370773423, 'learning_rate': 0.00037111909876522966}\n",
      "air 12 0:05:54.527475 559 {'kernel_size_w': 3, 'kernel_size_h': 3, 'alpha': 0.6414197239123495, 'learning_rate': 0.0005786400356360335}\n",
      "air 18 0:04:29.468470 520 {'kernel_size_w': 3, 'kernel_size_h': 3, 'alpha': 0.36858055939219503, 'learning_rate': 0.0013045914538303263}\n",
      "vwnd 0 0:07:07.176246 305 {'kernel_size_w': 4, 'kernel_size_h': 4, 'alpha': 0.8734795818413804, 'learning_rate': 0.00036804761088746006}\n",
      "vwnd 6 0:05:16.725486 464 {'kernel_size_w': 4, 'kernel_size_h': 4, 'alpha': 0.6327855039471668, 'learning_rate': 0.0011138152299147233}\n",
      "vwnd 12 0:06:14.784991 554 {'kernel_size_w': 3, 'kernel_size_h': 4, 'alpha': 0.8394184025900695, 'learning_rate': 0.0015171474616105431}\n",
      "vwnd 18 0:08:00.985385 395 {'kernel_size_w': 4, 'kernel_size_h': 4, 'alpha': 0.7571164498342359, 'learning_rate': 0.0010921630286945254}\n",
      "uwnd 0 0:06:24.464708 552 {'kernel_size_w': 3, 'kernel_size_h': 4, 'alpha': 0.698883180705712, 'learning_rate': 0.0008895832833356647}\n",
      "uwnd 6 0:05:39.782290 15 {'kernel_size_w': 3, 'kernel_size_h': 4, 'alpha': 0.6521774575189992, 'learning_rate': 0.0007216232480123006}\n",
      "uwnd 12 0:05:30.624784 543 {'kernel_size_w': 4, 'kernel_size_h': 3, 'alpha': 0.8478850225521469, 'learning_rate': 0.0014442888689384773}\n",
      "uwnd 18 0:03:52.459628 537 {'kernel_size_w': 3, 'kernel_size_h': 3, 'alpha': 0.6085372931729714, 'learning_rate': 0.003123624509850634}\n"
     ]
    }
   ],
   "source": [
    "for variable in ['air', 'vwnd', 'uwnd']:\n",
    "    for state in [0,6,12,18]:\n",
    "        study = optuna.load_study(study_name=f'optimizing_parameters_{variable}_{state}_pareto',\n",
    "                                storage=f'sqlite:///optimize/db/optimizing_parameters_state_{state}_pareto.db',)\n",
    "        best_trial = study.best_trials[0]\n",
    "        print(variable, state,best_trial.duration, best_trial._trial_id, best_trial.params)"
   ]
  },
  {
   "cell_type": "code",
   "execution_count": 52,
   "metadata": {},
   "outputs": [],
   "source": [
    "variable = 'uwnd'\n",
    "state = 0\n",
    "study = optuna.load_study(study_name=f'optimizing_parameters_{variable}_{state}_pareto',\n",
    "                                storage=f'sqlite:///optimize/db/optimizing_parameters_state_{state}_pareto.db',)"
   ]
  },
  {
   "cell_type": "code",
   "execution_count": 70,
   "metadata": {},
   "outputs": [
    {
     "data": {
      "text/plain": [
       "array([0.67178089071174, 4, 4, 0.00032232930824510647], dtype=object)"
      ]
     },
     "execution_count": 70,
     "metadata": {},
     "output_type": "execute_result"
    }
   ],
   "source": [
    "df = study.trials_dataframe()\n",
    "df = df.sort_values(by=['duration', 'values_0', 'values_1'], ascending=[False, True, True])\n",
    "df.iloc[0,6:10].values"
   ]
  },
  {
   "cell_type": "code",
   "execution_count": 71,
   "metadata": {},
   "outputs": [
    {
     "data": {
      "text/plain": [
       "number                                                  179\n",
       "values_0                                           1.603465\n",
       "values_1                                           4.281217\n",
       "datetime_start                   2023-12-05 07:58:05.872550\n",
       "datetime_complete                2023-12-05 08:05:16.728026\n",
       "duration                             0 days 00:07:10.855476\n",
       "params_alpha                                       0.671781\n",
       "params_kernel_size_h                                      4\n",
       "params_kernel_size_w                                      4\n",
       "params_learning_rate                               0.000322\n",
       "system_attrs_nsga2:generation                             3\n",
       "state                                              COMPLETE\n",
       "Name: 179, dtype: object"
      ]
     },
     "execution_count": 71,
     "metadata": {},
     "output_type": "execute_result"
    }
   ],
   "source": [
    "df.iloc[0]"
   ]
  }
 ],
 "metadata": {
  "kernelspec": {
   "display_name": "base",
   "language": "python",
   "name": "python3"
  },
  "language_info": {
   "codemirror_mode": {
    "name": "ipython",
    "version": 3
   },
   "file_extension": ".py",
   "mimetype": "text/x-python",
   "name": "python",
   "nbconvert_exporter": "python",
   "pygments_lexer": "ipython3",
   "version": "3.10.10"
  }
 },
 "nbformat": 4,
 "nbformat_minor": 2
}
